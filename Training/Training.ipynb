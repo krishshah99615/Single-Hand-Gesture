{
  "nbformat": 4,
  "nbformat_minor": 0,
  "metadata": {
    "kernelspec": {
      "display_name": "Python 3",
      "language": "python",
      "name": "python3"
    },
    "language_info": {
      "codemirror_mode": {
        "name": "ipython",
        "version": 3
      },
      "file_extension": ".py",
      "mimetype": "text/x-python",
      "name": "python",
      "nbconvert_exporter": "python",
      "pygments_lexer": "ipython3",
      "version": "3.7.6"
    },
    "colab": {
      "name": "Training.ipynb",
      "provenance": [],
      "collapsed_sections": [],
      "toc_visible": true
    },
    "accelerator": "GPU"
  },
  "cells": [
    {
      "cell_type": "markdown",
      "metadata": {
        "id": "THUhvVPbCnzn",
        "colab_type": "text"
      },
      "source": [
        "# FOR GOOGLE COLAB"
      ]
    },
    {
      "cell_type": "markdown",
      "metadata": {
        "id": "Gd0mRUoRCNkE",
        "colab_type": "text"
      },
      "source": [
        "# Download the repo\n"
      ]
    },
    {
      "cell_type": "code",
      "metadata": {
        "id": "LIAPPXP2Og7a",
        "colab_type": "code",
        "colab": {
          "base_uri": "https://localhost:8080/",
          "height": 1000
        },
        "outputId": "b4409824-fd5a-4c93-a7d2-06cfd7f03f04"
      },
      "source": [
        "!pip install tensorflow-gpu==2.0.0"
      ],
      "execution_count": 1,
      "outputs": [
        {
          "output_type": "stream",
          "text": [
            "Collecting tensorflow-gpu==2.0.0\n",
            "\u001b[?25l  Downloading https://files.pythonhosted.org/packages/25/44/47f0722aea081697143fbcf5d2aa60d1aee4aaacb5869aee2b568974777b/tensorflow_gpu-2.0.0-cp36-cp36m-manylinux2010_x86_64.whl (380.8MB)\n",
            "\u001b[K     |████████████████████████████████| 380.8MB 45kB/s \n",
            "\u001b[?25hRequirement already satisfied: termcolor>=1.1.0 in /usr/local/lib/python3.6/dist-packages (from tensorflow-gpu==2.0.0) (1.1.0)\n",
            "Requirement already satisfied: grpcio>=1.8.6 in /usr/local/lib/python3.6/dist-packages (from tensorflow-gpu==2.0.0) (1.31.0)\n",
            "Collecting keras-applications>=1.0.8\n",
            "\u001b[?25l  Downloading https://files.pythonhosted.org/packages/71/e3/19762fdfc62877ae9102edf6342d71b28fbfd9dea3d2f96a882ce099b03f/Keras_Applications-1.0.8-py3-none-any.whl (50kB)\n",
            "\u001b[K     |████████████████████████████████| 51kB 6.0MB/s \n",
            "\u001b[?25hRequirement already satisfied: astor>=0.6.0 in /usr/local/lib/python3.6/dist-packages (from tensorflow-gpu==2.0.0) (0.8.1)\n",
            "Collecting gast==0.2.2\n",
            "  Downloading https://files.pythonhosted.org/packages/4e/35/11749bf99b2d4e3cceb4d55ca22590b0d7c2c62b9de38ac4a4a7f4687421/gast-0.2.2.tar.gz\n",
            "Collecting tensorflow-estimator<2.1.0,>=2.0.0\n",
            "\u001b[?25l  Downloading https://files.pythonhosted.org/packages/fc/08/8b927337b7019c374719145d1dceba21a8bb909b93b1ad6f8fb7d22c1ca1/tensorflow_estimator-2.0.1-py2.py3-none-any.whl (449kB)\n",
            "\u001b[K     |████████████████████████████████| 450kB 24.8MB/s \n",
            "\u001b[?25hRequirement already satisfied: absl-py>=0.7.0 in /usr/local/lib/python3.6/dist-packages (from tensorflow-gpu==2.0.0) (0.9.0)\n",
            "Requirement already satisfied: opt-einsum>=2.3.2 in /usr/local/lib/python3.6/dist-packages (from tensorflow-gpu==2.0.0) (3.3.0)\n",
            "Collecting tensorboard<2.1.0,>=2.0.0\n",
            "\u001b[?25l  Downloading https://files.pythonhosted.org/packages/76/54/99b9d5d52d5cb732f099baaaf7740403e83fe6b0cedde940fabd2b13d75a/tensorboard-2.0.2-py3-none-any.whl (3.8MB)\n",
            "\u001b[K     |████████████████████████████████| 3.8MB 36.6MB/s \n",
            "\u001b[?25hRequirement already satisfied: keras-preprocessing>=1.0.5 in /usr/local/lib/python3.6/dist-packages (from tensorflow-gpu==2.0.0) (1.1.2)\n",
            "Requirement already satisfied: google-pasta>=0.1.6 in /usr/local/lib/python3.6/dist-packages (from tensorflow-gpu==2.0.0) (0.2.0)\n",
            "Requirement already satisfied: numpy<2.0,>=1.16.0 in /usr/local/lib/python3.6/dist-packages (from tensorflow-gpu==2.0.0) (1.18.5)\n",
            "Requirement already satisfied: six>=1.10.0 in /usr/local/lib/python3.6/dist-packages (from tensorflow-gpu==2.0.0) (1.15.0)\n",
            "Requirement already satisfied: protobuf>=3.6.1 in /usr/local/lib/python3.6/dist-packages (from tensorflow-gpu==2.0.0) (3.12.4)\n",
            "Requirement already satisfied: wheel>=0.26 in /usr/local/lib/python3.6/dist-packages (from tensorflow-gpu==2.0.0) (0.34.2)\n",
            "Requirement already satisfied: wrapt>=1.11.1 in /usr/local/lib/python3.6/dist-packages (from tensorflow-gpu==2.0.0) (1.12.1)\n",
            "Requirement already satisfied: h5py in /usr/local/lib/python3.6/dist-packages (from keras-applications>=1.0.8->tensorflow-gpu==2.0.0) (2.10.0)\n",
            "Requirement already satisfied: werkzeug>=0.11.15 in /usr/local/lib/python3.6/dist-packages (from tensorboard<2.1.0,>=2.0.0->tensorflow-gpu==2.0.0) (1.0.1)\n",
            "Requirement already satisfied: markdown>=2.6.8 in /usr/local/lib/python3.6/dist-packages (from tensorboard<2.1.0,>=2.0.0->tensorflow-gpu==2.0.0) (3.2.2)\n",
            "Requirement already satisfied: google-auth-oauthlib<0.5,>=0.4.1 in /usr/local/lib/python3.6/dist-packages (from tensorboard<2.1.0,>=2.0.0->tensorflow-gpu==2.0.0) (0.4.1)\n",
            "Requirement already satisfied: google-auth<2,>=1.6.3 in /usr/local/lib/python3.6/dist-packages (from tensorboard<2.1.0,>=2.0.0->tensorflow-gpu==2.0.0) (1.17.2)\n",
            "Requirement already satisfied: requests<3,>=2.21.0 in /usr/local/lib/python3.6/dist-packages (from tensorboard<2.1.0,>=2.0.0->tensorflow-gpu==2.0.0) (2.23.0)\n",
            "Requirement already satisfied: setuptools>=41.0.0 in /usr/local/lib/python3.6/dist-packages (from tensorboard<2.1.0,>=2.0.0->tensorflow-gpu==2.0.0) (49.2.0)\n",
            "Requirement already satisfied: importlib-metadata; python_version < \"3.8\" in /usr/local/lib/python3.6/dist-packages (from markdown>=2.6.8->tensorboard<2.1.0,>=2.0.0->tensorflow-gpu==2.0.0) (1.7.0)\n",
            "Requirement already satisfied: requests-oauthlib>=0.7.0 in /usr/local/lib/python3.6/dist-packages (from google-auth-oauthlib<0.5,>=0.4.1->tensorboard<2.1.0,>=2.0.0->tensorflow-gpu==2.0.0) (1.3.0)\n",
            "Requirement already satisfied: cachetools<5.0,>=2.0.0 in /usr/local/lib/python3.6/dist-packages (from google-auth<2,>=1.6.3->tensorboard<2.1.0,>=2.0.0->tensorflow-gpu==2.0.0) (4.1.1)\n",
            "Requirement already satisfied: rsa<5,>=3.1.4; python_version >= \"3\" in /usr/local/lib/python3.6/dist-packages (from google-auth<2,>=1.6.3->tensorboard<2.1.0,>=2.0.0->tensorflow-gpu==2.0.0) (4.6)\n",
            "Requirement already satisfied: pyasn1-modules>=0.2.1 in /usr/local/lib/python3.6/dist-packages (from google-auth<2,>=1.6.3->tensorboard<2.1.0,>=2.0.0->tensorflow-gpu==2.0.0) (0.2.8)\n",
            "Requirement already satisfied: urllib3!=1.25.0,!=1.25.1,<1.26,>=1.21.1 in /usr/local/lib/python3.6/dist-packages (from requests<3,>=2.21.0->tensorboard<2.1.0,>=2.0.0->tensorflow-gpu==2.0.0) (1.24.3)\n",
            "Requirement already satisfied: idna<3,>=2.5 in /usr/local/lib/python3.6/dist-packages (from requests<3,>=2.21.0->tensorboard<2.1.0,>=2.0.0->tensorflow-gpu==2.0.0) (2.10)\n",
            "Requirement already satisfied: certifi>=2017.4.17 in /usr/local/lib/python3.6/dist-packages (from requests<3,>=2.21.0->tensorboard<2.1.0,>=2.0.0->tensorflow-gpu==2.0.0) (2020.6.20)\n",
            "Requirement already satisfied: chardet<4,>=3.0.2 in /usr/local/lib/python3.6/dist-packages (from requests<3,>=2.21.0->tensorboard<2.1.0,>=2.0.0->tensorflow-gpu==2.0.0) (3.0.4)\n",
            "Requirement already satisfied: zipp>=0.5 in /usr/local/lib/python3.6/dist-packages (from importlib-metadata; python_version < \"3.8\"->markdown>=2.6.8->tensorboard<2.1.0,>=2.0.0->tensorflow-gpu==2.0.0) (3.1.0)\n",
            "Requirement already satisfied: oauthlib>=3.0.0 in /usr/local/lib/python3.6/dist-packages (from requests-oauthlib>=0.7.0->google-auth-oauthlib<0.5,>=0.4.1->tensorboard<2.1.0,>=2.0.0->tensorflow-gpu==2.0.0) (3.1.0)\n",
            "Requirement already satisfied: pyasn1>=0.1.3 in /usr/local/lib/python3.6/dist-packages (from rsa<5,>=3.1.4; python_version >= \"3\"->google-auth<2,>=1.6.3->tensorboard<2.1.0,>=2.0.0->tensorflow-gpu==2.0.0) (0.4.8)\n",
            "Building wheels for collected packages: gast\n",
            "  Building wheel for gast (setup.py) ... \u001b[?25l\u001b[?25hdone\n",
            "  Created wheel for gast: filename=gast-0.2.2-cp36-none-any.whl size=7540 sha256=79f19e580b720ca5571b7c62a8c4e3929e766b3379061f787880f62b31c0e0a1\n",
            "  Stored in directory: /root/.cache/pip/wheels/5c/2e/7e/a1d4d4fcebe6c381f378ce7743a3ced3699feb89bcfbdadadd\n",
            "Successfully built gast\n",
            "\u001b[31mERROR: tensorflow 2.3.0 has requirement gast==0.3.3, but you'll have gast 0.2.2 which is incompatible.\u001b[0m\n",
            "\u001b[31mERROR: tensorflow 2.3.0 has requirement tensorboard<3,>=2.3.0, but you'll have tensorboard 2.0.2 which is incompatible.\u001b[0m\n",
            "\u001b[31mERROR: tensorflow 2.3.0 has requirement tensorflow-estimator<2.4.0,>=2.3.0, but you'll have tensorflow-estimator 2.0.1 which is incompatible.\u001b[0m\n",
            "\u001b[31mERROR: tensorflow-probability 0.11.0 has requirement gast>=0.3.2, but you'll have gast 0.2.2 which is incompatible.\u001b[0m\n",
            "Installing collected packages: keras-applications, gast, tensorflow-estimator, tensorboard, tensorflow-gpu\n",
            "  Found existing installation: gast 0.3.3\n",
            "    Uninstalling gast-0.3.3:\n",
            "      Successfully uninstalled gast-0.3.3\n",
            "  Found existing installation: tensorflow-estimator 2.3.0\n",
            "    Uninstalling tensorflow-estimator-2.3.0:\n",
            "      Successfully uninstalled tensorflow-estimator-2.3.0\n",
            "  Found existing installation: tensorboard 2.3.0\n",
            "    Uninstalling tensorboard-2.3.0:\n",
            "      Successfully uninstalled tensorboard-2.3.0\n",
            "Successfully installed gast-0.2.2 keras-applications-1.0.8 tensorboard-2.0.2 tensorflow-estimator-2.0.1 tensorflow-gpu-2.0.0\n"
          ],
          "name": "stdout"
        }
      ]
    },
    {
      "cell_type": "code",
      "metadata": {
        "id": "QkJ8b9SfCL-t",
        "colab_type": "code",
        "colab": {
          "base_uri": "https://localhost:8080/",
          "height": 141
        },
        "outputId": "433f29f3-0287-4df7-f94f-3dc3d2210136"
      },
      "source": [
        "!git clone https://github.com/krishshah99615/Single-Hand-Gesture"
      ],
      "execution_count": 2,
      "outputs": [
        {
          "output_type": "stream",
          "text": [
            "Cloning into 'Single-Hand-Gesture'...\n",
            "remote: Enumerating objects: 10, done.\u001b[K\n",
            "remote: Counting objects: 100% (10/10), done.\u001b[K\n",
            "remote: Compressing objects: 100% (8/8), done.\u001b[K\n",
            "remote: Total 273 (delta 2), reused 8 (delta 2), pack-reused 263\u001b[K\n",
            "Receiving objects: 100% (273/273), 63.54 MiB | 11.85 MiB/s, done.\n",
            "Resolving deltas: 100% (25/25), done.\n"
          ],
          "name": "stdout"
        }
      ]
    },
    {
      "cell_type": "markdown",
      "metadata": {
        "id": "Xm0CnGqKCcyy",
        "colab_type": "text"
      },
      "source": [
        "# Load all Library and funtions"
      ]
    },
    {
      "cell_type": "code",
      "metadata": {
        "id": "WzKxRDpgB-SG",
        "colab_type": "code",
        "colab": {}
      },
      "source": [
        "import tensorflow as tf\n",
        "from tensorflow.keras.preprocessing.image import ImageDataGenerator\n",
        "from tensorflow.keras.applications.vgg16 import VGG16\n",
        "from tensorflow.keras import Model\n",
        "from tensorflow.keras.layers import Dense,Input,GlobalAveragePooling2D\n",
        "import numpy as np\n",
        "import os"
      ],
      "execution_count": 3,
      "outputs": []
    },
    {
      "cell_type": "markdown",
      "metadata": {
        "id": "cvCmcbEtiY3b",
        "colab_type": "text"
      },
      "source": [
        "## Set the parameters"
      ]
    },
    {
      "cell_type": "code",
      "metadata": {
        "id": "F7UWr4M5B-SL",
        "colab_type": "code",
        "colab": {}
      },
      "source": [
        "DATA_DIR=\"Single-Hand-Gesture/Dataset/\"\n",
        "TARGET_SIZE=(224,224)\n",
        "BATCH_SIZE=32\n",
        "VALIDATION_SPLIT=0.3\n",
        "EPOCHS=100\n",
        "NUM_CLASSES=3"
      ],
      "execution_count": 4,
      "outputs": []
    },
    {
      "cell_type": "markdown",
      "metadata": {
        "id": "dkLN_PNgibV0",
        "colab_type": "text"
      },
      "source": [
        "## SET the images and preprocessing "
      ]
    },
    {
      "cell_type": "code",
      "metadata": {
        "id": "9BWRy3nCB-SN",
        "colab_type": "code",
        "colab": {
          "base_uri": "https://localhost:8080/",
          "height": 52
        },
        "outputId": "5960cba5-094a-43ab-d44c-d3163632ee0f"
      },
      "source": [
        "train_data_gen = ImageDataGenerator(validation_split=VALIDATION_SPLIT,\n",
        "                                    rescale=1./255)\n",
        "\n",
        "train_gen = train_data_gen.flow_from_directory(DATA_DIR,\n",
        "                                               target_size=TARGET_SIZE,\n",
        "                                               class_mode='categorical',\n",
        "                                               shuffle=True,\n",
        "                                              subset='training')\n",
        "\n",
        "val_gen = train_data_gen.flow_from_directory(DATA_DIR,\n",
        "                                               target_size=TARGET_SIZE,\n",
        "                                               class_mode='categorical',\n",
        "                                                subset='validation')"
      ],
      "execution_count": 5,
      "outputs": [
        {
          "output_type": "stream",
          "text": [
            "Found 112 images belonging to 3 classes.\n",
            "Found 46 images belonging to 3 classes.\n"
          ],
          "name": "stdout"
        }
      ]
    },
    {
      "cell_type": "markdown",
      "metadata": {
        "id": "80rs3Eioifb_",
        "colab_type": "text"
      },
      "source": [
        "## Use preprocess model"
      ]
    },
    {
      "cell_type": "code",
      "metadata": {
        "id": "5LxM86P-B-SR",
        "colab_type": "code",
        "colab": {
          "base_uri": "https://localhost:8080/",
          "height": 1000
        },
        "outputId": "57885a94-e490-4814-c22b-e92a1df9f096"
      },
      "source": [
        "vgg16_model =VGG16(weights = 'imagenet', include_top = False)\n",
        "x = vgg16_model.output\n",
        "x = GlobalAveragePooling2D()(x)\n",
        "x = Dense(1024, activation='relu')(x)\n",
        "x = Dense(1024, activation='relu')(x)\n",
        "predictions = Dense(NUM_CLASSES, activation = 'softmax')(x)\n",
        "model = Model(inputs = vgg16_model.input, outputs = predictions)\n",
        "for layer in vgg16_model.layers:\n",
        "    layer.trainable = False\n",
        "model.compile(optimizer = 'rmsprop',loss = 'categorical_crossentropy',metrics = ['accuracy'])\n",
        "model.summary()"
      ],
      "execution_count": 6,
      "outputs": [
        {
          "output_type": "stream",
          "text": [
            "Downloading data from https://github.com/fchollet/deep-learning-models/releases/download/v0.1/vgg16_weights_tf_dim_ordering_tf_kernels_notop.h5\n",
            "58892288/58889256 [==============================] - 5s 0us/step\n",
            "Model: \"model\"\n",
            "_________________________________________________________________\n",
            "Layer (type)                 Output Shape              Param #   \n",
            "=================================================================\n",
            "input_1 (InputLayer)         [(None, None, None, 3)]   0         \n",
            "_________________________________________________________________\n",
            "block1_conv1 (Conv2D)        (None, None, None, 64)    1792      \n",
            "_________________________________________________________________\n",
            "block1_conv2 (Conv2D)        (None, None, None, 64)    36928     \n",
            "_________________________________________________________________\n",
            "block1_pool (MaxPooling2D)   (None, None, None, 64)    0         \n",
            "_________________________________________________________________\n",
            "block2_conv1 (Conv2D)        (None, None, None, 128)   73856     \n",
            "_________________________________________________________________\n",
            "block2_conv2 (Conv2D)        (None, None, None, 128)   147584    \n",
            "_________________________________________________________________\n",
            "block2_pool (MaxPooling2D)   (None, None, None, 128)   0         \n",
            "_________________________________________________________________\n",
            "block3_conv1 (Conv2D)        (None, None, None, 256)   295168    \n",
            "_________________________________________________________________\n",
            "block3_conv2 (Conv2D)        (None, None, None, 256)   590080    \n",
            "_________________________________________________________________\n",
            "block3_conv3 (Conv2D)        (None, None, None, 256)   590080    \n",
            "_________________________________________________________________\n",
            "block3_pool (MaxPooling2D)   (None, None, None, 256)   0         \n",
            "_________________________________________________________________\n",
            "block4_conv1 (Conv2D)        (None, None, None, 512)   1180160   \n",
            "_________________________________________________________________\n",
            "block4_conv2 (Conv2D)        (None, None, None, 512)   2359808   \n",
            "_________________________________________________________________\n",
            "block4_conv3 (Conv2D)        (None, None, None, 512)   2359808   \n",
            "_________________________________________________________________\n",
            "block4_pool (MaxPooling2D)   (None, None, None, 512)   0         \n",
            "_________________________________________________________________\n",
            "block5_conv1 (Conv2D)        (None, None, None, 512)   2359808   \n",
            "_________________________________________________________________\n",
            "block5_conv2 (Conv2D)        (None, None, None, 512)   2359808   \n",
            "_________________________________________________________________\n",
            "block5_conv3 (Conv2D)        (None, None, None, 512)   2359808   \n",
            "_________________________________________________________________\n",
            "block5_pool (MaxPooling2D)   (None, None, None, 512)   0         \n",
            "_________________________________________________________________\n",
            "global_average_pooling2d (Gl (None, 512)               0         \n",
            "_________________________________________________________________\n",
            "dense (Dense)                (None, 1024)              525312    \n",
            "_________________________________________________________________\n",
            "dense_1 (Dense)              (None, 1024)              1049600   \n",
            "_________________________________________________________________\n",
            "dense_2 (Dense)              (None, 3)                 3075      \n",
            "=================================================================\n",
            "Total params: 16,292,675\n",
            "Trainable params: 1,577,987\n",
            "Non-trainable params: 14,714,688\n",
            "_________________________________________________________________\n"
          ],
          "name": "stdout"
        }
      ]
    },
    {
      "cell_type": "markdown",
      "metadata": {
        "id": "o6mUPDtPijz_",
        "colab_type": "text"
      },
      "source": [
        "## Training"
      ]
    },
    {
      "cell_type": "code",
      "metadata": {
        "id": "NcXs9u1DB-SV",
        "colab_type": "code",
        "colab": {
          "base_uri": "https://localhost:8080/",
          "height": 1000
        },
        "outputId": "a8b09cb1-661b-466b-e4ba-5a53f8fbdcff"
      },
      "source": [
        "checkpoint = tf.keras.callbacks.ModelCheckpoint(\"model.h5\", monitor='val_accuracy', verbose=1, save_best_only=True, save_weights_only=False, mode='auto', period=1)\n",
        "#Early Stopping\n",
        "early = tf.keras.callbacks.EarlyStopping(monitor='val_accuracy', min_delta=0, patience=10, verbose=1, mode='auto')\n",
        "#CReating a log file of training\n",
        "csv= tf.keras.callbacks.CSVLogger('logfile.csv')\n",
        "#Terminate if Nan Occurs\n",
        "term_nan=tf.keras.callbacks.TerminateOnNaN() \n",
        "#Learning Rate Sceduler\n",
        "    \n",
        "history = model.fit_generator(train_gen,epochs=EPOCHS,validation_data=val_gen,shuffle=True,callbacks=[early,checkpoint,csv,term_nan])"
      ],
      "execution_count": 7,
      "outputs": [
        {
          "output_type": "stream",
          "text": [
            "WARNING:tensorflow:`period` argument is deprecated. Please use `save_freq` to specify the frequency in number of samples seen.\n",
            "Epoch 1/100\n",
            "3/4 [=====================>........] - ETA: 6s - loss: 4.5212 - accuracy: 0.2875 \n",
            "Epoch 00001: val_accuracy improved from -inf to 0.34783, saving model to model.h5\n",
            "4/4 [==============================] - 23s 6s/step - loss: 3.5869 - accuracy: 0.2768 - val_loss: 1.0529 - val_accuracy: 0.3478\n",
            "Epoch 2/100\n",
            "3/4 [=====================>........] - ETA: 0s - loss: 1.0771 - accuracy: 0.3375\n",
            "Epoch 00002: val_accuracy did not improve from 0.34783\n",
            "4/4 [==============================] - 5s 1s/step - loss: 1.0566 - accuracy: 0.3304 - val_loss: 1.0660 - val_accuracy: 0.3261\n",
            "Epoch 3/100\n",
            "3/4 [=====================>........] - ETA: 0s - loss: 1.0379 - accuracy: 0.3625\n",
            "Epoch 00003: val_accuracy improved from 0.34783 to 0.65217, saving model to model.h5\n",
            "4/4 [==============================] - 5s 1s/step - loss: 1.0370 - accuracy: 0.3304 - val_loss: 1.0880 - val_accuracy: 0.6522\n",
            "Epoch 4/100\n",
            "3/4 [=====================>........] - ETA: 0s - loss: 0.8277 - accuracy: 0.8750\n",
            "Epoch 00004: val_accuracy did not improve from 0.65217\n",
            "4/4 [==============================] - 5s 1s/step - loss: 0.8104 - accuracy: 0.8393 - val_loss: 0.8360 - val_accuracy: 0.4783\n",
            "Epoch 5/100\n",
            "3/4 [=====================>........] - ETA: 0s - loss: 0.8015 - accuracy: 0.6000\n",
            "Epoch 00005: val_accuracy did not improve from 0.65217\n",
            "4/4 [==============================] - 5s 1s/step - loss: 0.8726 - accuracy: 0.5357 - val_loss: 0.8756 - val_accuracy: 0.6522\n",
            "Epoch 6/100\n",
            "3/4 [=====================>........] - ETA: 0s - loss: 0.7174 - accuracy: 0.6625\n",
            "Epoch 00006: val_accuracy improved from 0.65217 to 0.67391, saving model to model.h5\n",
            "4/4 [==============================] - 5s 1s/step - loss: 0.6917 - accuracy: 0.7054 - val_loss: 0.8222 - val_accuracy: 0.6739\n",
            "Epoch 7/100\n",
            "3/4 [=====================>........] - ETA: 1s - loss: 0.5493 - accuracy: 0.8646\n",
            "Epoch 00007: val_accuracy improved from 0.67391 to 0.73913, saving model to model.h5\n",
            "4/4 [==============================] - 5s 1s/step - loss: 0.6733 - accuracy: 0.8304 - val_loss: 0.6512 - val_accuracy: 0.7391\n",
            "Epoch 8/100\n",
            "3/4 [=====================>........] - ETA: 0s - loss: 0.7223 - accuracy: 0.5500\n",
            "Epoch 00008: val_accuracy improved from 0.73913 to 0.86957, saving model to model.h5\n",
            "4/4 [==============================] - 5s 1s/step - loss: 0.6730 - accuracy: 0.5982 - val_loss: 0.5198 - val_accuracy: 0.8696\n",
            "Epoch 9/100\n",
            "3/4 [=====================>........] - ETA: 0s - loss: 0.3067 - accuracy: 0.9250\n",
            "Epoch 00009: val_accuracy did not improve from 0.86957\n",
            "4/4 [==============================] - 5s 1s/step - loss: 0.2943 - accuracy: 0.9464 - val_loss: 0.4665 - val_accuracy: 0.7826\n",
            "Epoch 10/100\n",
            "3/4 [=====================>........] - ETA: 1s - loss: 0.2857 - accuracy: 0.8958\n",
            "Epoch 00010: val_accuracy did not improve from 0.86957\n",
            "4/4 [==============================] - 5s 1s/step - loss: 0.4075 - accuracy: 0.8482 - val_loss: 1.2321 - val_accuracy: 0.6739\n",
            "Epoch 11/100\n",
            "3/4 [=====================>........] - ETA: 0s - loss: 0.5139 - accuracy: 0.8250\n",
            "Epoch 00011: val_accuracy improved from 0.86957 to 0.89130, saving model to model.h5\n",
            "4/4 [==============================] - 5s 1s/step - loss: 0.4359 - accuracy: 0.8661 - val_loss: 0.2843 - val_accuracy: 0.8913\n",
            "Epoch 12/100\n",
            "3/4 [=====================>........] - ETA: 0s - loss: 0.2043 - accuracy: 0.9625\n",
            "Epoch 00012: val_accuracy did not improve from 0.89130\n",
            "4/4 [==============================] - 5s 1s/step - loss: 0.2476 - accuracy: 0.9196 - val_loss: 0.7046 - val_accuracy: 0.6522\n",
            "Epoch 13/100\n",
            "3/4 [=====================>........] - ETA: 1s - loss: 0.4435 - accuracy: 0.7812\n",
            "Epoch 00013: val_accuracy improved from 0.89130 to 0.93478, saving model to model.h5\n",
            "4/4 [==============================] - 5s 1s/step - loss: 0.3669 - accuracy: 0.8125 - val_loss: 0.2389 - val_accuracy: 0.9348\n",
            "Epoch 14/100\n",
            "3/4 [=====================>........] - ETA: 0s - loss: 0.0851 - accuracy: 1.0000\n",
            "Epoch 00014: val_accuracy improved from 0.93478 to 1.00000, saving model to model.h5\n",
            "4/4 [==============================] - 5s 1s/step - loss: 0.0794 - accuracy: 1.0000 - val_loss: 0.1447 - val_accuracy: 1.0000\n",
            "Epoch 15/100\n",
            "3/4 [=====================>........] - ETA: 0s - loss: 0.0753 - accuracy: 1.0000\n",
            "Epoch 00015: val_accuracy did not improve from 1.00000\n",
            "4/4 [==============================] - 5s 1s/step - loss: 0.0891 - accuracy: 1.0000 - val_loss: 0.2289 - val_accuracy: 0.8913\n",
            "Epoch 16/100\n",
            "3/4 [=====================>........] - ETA: 0s - loss: 0.1063 - accuracy: 0.9875\n",
            "Epoch 00016: val_accuracy did not improve from 1.00000\n",
            "4/4 [==============================] - 5s 1s/step - loss: 0.0903 - accuracy: 0.9911 - val_loss: 0.1593 - val_accuracy: 0.9348\n",
            "Epoch 17/100\n",
            "3/4 [=====================>........] - ETA: 0s - loss: 0.0253 - accuracy: 1.0000\n",
            "Epoch 00017: val_accuracy did not improve from 1.00000\n",
            "4/4 [==============================] - 5s 1s/step - loss: 0.0268 - accuracy: 1.0000 - val_loss: 0.1816 - val_accuracy: 0.8913\n",
            "Epoch 18/100\n",
            "3/4 [=====================>........] - ETA: 0s - loss: 0.0209 - accuracy: 1.0000\n",
            "Epoch 00018: val_accuracy did not improve from 1.00000\n",
            "4/4 [==============================] - 5s 1s/step - loss: 0.0199 - accuracy: 1.0000 - val_loss: 0.1328 - val_accuracy: 0.9783\n",
            "Epoch 19/100\n",
            "3/4 [=====================>........] - ETA: 0s - loss: 0.0238 - accuracy: 1.0000\n",
            "Epoch 00019: val_accuracy did not improve from 1.00000\n",
            "4/4 [==============================] - 5s 1s/step - loss: 0.0541 - accuracy: 0.9821 - val_loss: 1.6556 - val_accuracy: 0.6522\n",
            "Epoch 20/100\n",
            "3/4 [=====================>........] - ETA: 0s - loss: 0.6801 - accuracy: 0.7250\n",
            "Epoch 00020: val_accuracy did not improve from 1.00000\n",
            "4/4 [==============================] - 5s 1s/step - loss: 0.5629 - accuracy: 0.7857 - val_loss: 0.1084 - val_accuracy: 1.0000\n",
            "Epoch 21/100\n",
            "3/4 [=====================>........] - ETA: 1s - loss: 0.0578 - accuracy: 0.9792\n",
            "Epoch 00021: val_accuracy did not improve from 1.00000\n",
            "4/4 [==============================] - 5s 1s/step - loss: 0.0504 - accuracy: 0.9821 - val_loss: 0.1154 - val_accuracy: 1.0000\n",
            "Epoch 22/100\n",
            "3/4 [=====================>........] - ETA: 0s - loss: 0.0166 - accuracy: 1.0000\n",
            "Epoch 00022: val_accuracy did not improve from 1.00000\n",
            "4/4 [==============================] - 5s 1s/step - loss: 0.0167 - accuracy: 1.0000 - val_loss: 0.1399 - val_accuracy: 0.9565\n",
            "Epoch 23/100\n",
            "3/4 [=====================>........] - ETA: 0s - loss: 0.0121 - accuracy: 1.0000\n",
            "Epoch 00023: val_accuracy did not improve from 1.00000\n",
            "4/4 [==============================] - 5s 1s/step - loss: 0.0112 - accuracy: 1.0000 - val_loss: 0.1237 - val_accuracy: 0.9565\n",
            "Epoch 24/100\n",
            "3/4 [=====================>........] - ETA: 1s - loss: 0.0075 - accuracy: 1.0000\n",
            "Epoch 00024: val_accuracy did not improve from 1.00000\n",
            "4/4 [==============================] - 5s 1s/step - loss: 0.0082 - accuracy: 1.0000 - val_loss: 0.0795 - val_accuracy: 0.9565\n",
            "Epoch 00024: early stopping\n"
          ],
          "name": "stdout"
        }
      ]
    },
    {
      "cell_type": "markdown",
      "metadata": {
        "id": "UPsPvIIoinAE",
        "colab_type": "text"
      },
      "source": [
        "## Visualize "
      ]
    },
    {
      "cell_type": "code",
      "metadata": {
        "id": "ORZjtutMOHIu",
        "colab_type": "code",
        "colab": {
          "base_uri": "https://localhost:8080/",
          "height": 573
        },
        "outputId": "f8e76e05-feac-4c3d-b3c7-e2c0cb230f37"
      },
      "source": [
        "import matplotlib.pyplot as plt\n",
        "plt.plot(history.history['accuracy'])\n",
        "plt.plot(history.history['val_accuracy'])\n",
        "plt.title('Traning accuracy vs Testing accuracy')\n",
        "plt.xlabel('Epochs')\n",
        "plt.ylabel('Accuracy [0-1]')\n",
        "plt.show()\n",
        "plt.plot(history.history['loss'])\n",
        "plt.plot(history.history['val_loss'])\n",
        "plt.title('Traning Loss vs Testing Loss')\n",
        "plt.xlabel('Epochs')\n",
        "plt.ylabel('Loss ')\n",
        "plt.show()\n",
        "model.load_weights('model.h5')\n",
        "model.save('model.h5')"
      ],
      "execution_count": 14,
      "outputs": [
        {
          "output_type": "display_data",
          "data": {
            "image/png": "[encoded data removed]",
            "text/plain": [
              "<Figure size 432x288 with 1 Axes>"
            ]
          },
          "metadata": {
            "tags": [],
            "needs_background": "light"
          }
        },
        {
          "output_type": "display_data",
          "data": {
            "image/png": "[encoded data removed]",
            "text/plain": [
              "<Figure size 432x288 with 1 Axes>"
            ]
          },
          "metadata": {
            "tags": [],
            "needs_background": "light"
          }
        }
      ]
    },
    {
      "cell_type": "code",
      "metadata": {
        "id": "Q8BBAcq5QViF",
        "colab_type": "code",
        "colab": {
          "base_uri": "https://localhost:8080/",
          "height": 34
        },
        "outputId": "a4e36a74-6680-424f-df4a-7259abe9a038"
      },
      "source": [
        "train_gen.class_indices"
      ],
      "execution_count": 9,
      "outputs": [
        {
          "output_type": "execute_result",
          "data": {
            "text/plain": [
              "{'Shikhara': 0, 'Simhamukha': 1, 'Trishula': 2}"
            ]
          },
          "metadata": {
            "tags": []
          },
          "execution_count": 9
        }
      ]
    },
    {
      "cell_type": "markdown",
      "metadata": {
        "id": "FkI3hfcmipiF",
        "colab_type": "text"
      },
      "source": [
        "## Evaluation"
      ]
    },
    {
      "cell_type": "code",
      "metadata": {
        "id": "EAAKrrbbT6rZ",
        "colab_type": "code",
        "colab": {
          "base_uri": "https://localhost:8080/",
          "height": 336
        },
        "outputId": "49d6b8aa-2ec4-426e-9403-977cb9c3863f"
      },
      "source": [
        "import numpy as np\n",
        "from sklearn.metrics import confusion_matrix,classification_report\n",
        "\n",
        "\n",
        "valid_gen = val_gen\n",
        "m=model\n",
        "res=tf.keras.Sequential.evaluate_generator(m,valid_gen)\n",
        "scores = m.predict_generator(valid_gen)\n",
        "\n",
        "\n",
        "print('Total Images : '+str(len(valid_gen.filenames)))\n",
        "print(\"Test Loss : \"+str(round(res[0],4)))\n",
        "print(\"Test Accuracy : \"+str(round(res[1]*100,4))+\"%\")\n",
        "\n",
        "y_pred = np.argmax(scores, axis=1)\n",
        "print('Confusion Matrix')\n",
        "cm=confusion_matrix(valid_gen.classes, y_pred)\n",
        "print(cm)\n",
        "print('Classification Report')\n",
        "target_names = ['Shikhara', 'Simhamukha','Trishula']\n",
        "print(classification_report(valid_gen.classes, y_pred, target_names=target_names))"
      ],
      "execution_count": 10,
      "outputs": [
        {
          "output_type": "stream",
          "text": [
            "Total Images : 46\n",
            "Test Loss : 0.1601\n",
            "Test Accuracy : 100.0%\n",
            "Confusion Matrix\n",
            "[[7 4 4]\n",
            " [3 6 7]\n",
            " [5 6 4]]\n",
            "Classification Report\n",
            "              precision    recall  f1-score   support\n",
            "\n",
            "    Shikhara       0.47      0.47      0.47        15\n",
            "  Simhamukha       0.38      0.38      0.38        16\n",
            "    Trishula       0.27      0.27      0.27        15\n",
            "\n",
            "    accuracy                           0.37        46\n",
            "   macro avg       0.37      0.37      0.37        46\n",
            "weighted avg       0.37      0.37      0.37        46\n",
            "\n"
          ],
          "name": "stdout"
        }
      ]
    },
    {
      "cell_type": "code",
      "metadata": {
        "id": "DTbCMJm0dgeF",
        "colab_type": "code",
        "colab": {
          "base_uri": "https://localhost:8080/",
          "height": 282
        },
        "outputId": "eb25ae8f-5b7e-4e9a-8262-b2c8238a7578"
      },
      "source": [
        "import seaborn as sns\n",
        "sns.heatmap(cm , square=True,cbar=False ,annot=True , xticklabels=target_names,yticklabels=target_names)"
      ],
      "execution_count": 13,
      "outputs": [
        {
          "output_type": "execute_result",
          "data": {
            "text/plain": [
              "<matplotlib.axes._subplots.AxesSubplot at 0x7feb457a0160>"
            ]
          },
          "metadata": {
            "tags": []
          },
          "execution_count": 13
        },
        {
          "output_type": "display_data",
          "data": {
            "image/png": "[encoded data removed]",
            "text/plain": [
              "<Figure size 432x288 with 1 Axes>"
            ]
          },
          "metadata": {
            "tags": [],
            "needs_background": "light"
          }
        }
      ]
    },
    {
      "cell_type": "code",
      "metadata": {
        "id": "kI6Zi_G0eByj",
        "colab_type": "code",
        "colab": {}
      },
      "source": [
        ""
      ],
      "execution_count": null,
      "outputs": []
    }
  ]
}